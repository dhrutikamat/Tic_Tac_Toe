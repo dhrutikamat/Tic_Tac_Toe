{
 "cells": [
  {
   "cell_type": "code",
   "execution_count": null,
   "id": "05a27b45-4f82-4da1-8d9c-5e57c199804d",
   "metadata": {},
   "outputs": [],
   "source": [
    "#TIC TAC TOE GAME in Python"
   ]
  },
  {
   "cell_type": "code",
   "execution_count": 1,
   "id": "01a20dcd-5412-4027-874b-b98d3acd367c",
   "metadata": {},
   "outputs": [
    {
     "name": "stdout",
     "output_type": "stream",
     "text": [
      " | | \n",
      " | | \n",
      " | | \n",
      "Player X's turn\n"
     ]
    },
    {
     "name": "stdin",
     "output_type": "stream",
     "text": [
      "Enter your move (1-9):  4\n"
     ]
    },
    {
     "name": "stdout",
     "output_type": "stream",
     "text": [
      " | | \n",
      "X| | \n",
      " | | \n",
      "Player O's turn\n"
     ]
    },
    {
     "name": "stdin",
     "output_type": "stream",
     "text": [
      "Enter your move (1-9):  3\n"
     ]
    },
    {
     "name": "stdout",
     "output_type": "stream",
     "text": [
      " | |O\n",
      "X| | \n",
      " | | \n",
      "Player X's turn\n"
     ]
    },
    {
     "name": "stdin",
     "output_type": "stream",
     "text": [
      "Enter your move (1-9):  5\n"
     ]
    },
    {
     "name": "stdout",
     "output_type": "stream",
     "text": [
      " | |O\n",
      "X|X| \n",
      " | | \n",
      "Player O's turn\n"
     ]
    },
    {
     "name": "stdin",
     "output_type": "stream",
     "text": [
      "Enter your move (1-9):  6\n"
     ]
    },
    {
     "name": "stdout",
     "output_type": "stream",
     "text": [
      " | |O\n",
      "X|X|O\n",
      " | | \n",
      "Player X's turn\n"
     ]
    },
    {
     "name": "stdin",
     "output_type": "stream",
     "text": [
      "Enter your move (1-9):  1\n"
     ]
    },
    {
     "name": "stdout",
     "output_type": "stream",
     "text": [
      "X| |O\n",
      "X|X|O\n",
      " | | \n",
      "Player O's turn\n"
     ]
    },
    {
     "name": "stdin",
     "output_type": "stream",
     "text": [
      "Enter your move (1-9):  9\n"
     ]
    },
    {
     "name": "stdout",
     "output_type": "stream",
     "text": [
      "X| |O\n",
      "X|X|O\n",
      " | |O\n",
      "Player O wins!\n"
     ]
    }
   ],
   "source": [
    "# Initialize the board with empty spaces\n",
    "board = [' ']*9\n",
    "\n",
    "def print_board():\n",
    "    \"\"\"Print the current state of the board.\"\"\"\n",
    "    [print('|'.join(board[i:i+3])) for i in range(0, 9, 3)]\n",
    "\n",
    "def check_winner():\n",
    "    \"\"\"Check if there is a winner.\"\"\"\n",
    "    # Define all possible winning combinations\n",
    "    combos = [[0, 1, 2], [3, 4, 5], [6, 7, 8], \n",
    "              [0, 3, 6], [1, 4, 7], [2, 5, 8], \n",
    "              [0, 4, 8], [2, 4, 6]]\n",
    "    return next((board[a] for a, b, c in combos if board[a] == board[b] == board[c] != ' '), None)\n",
    "\n",
    "def main():\n",
    "    \"\"\"Main function to control the flow of the game.\"\"\"\n",
    "    player = 'X'  # Player 'X' starts the game\n",
    "    while True:\n",
    "        print_board()\n",
    "        print(f\"Player {player}'s turn\")\n",
    "        move = int(input('Enter your move (1-9): ')) - 1  # Convert input to index\n",
    "        if board[move] == ' ':  # Check if the chosen position is empty\n",
    "            board[move] = player  # Place the player's symbol on the board\n",
    "            if (winner := check_winner()):  # Check if there's a winner after this move\n",
    "                print_board()\n",
    "                print(f\"Player {winner} wins!\")\n",
    "                break\n",
    "            elif ' ' not in board:  # Check if the board is full (tie)\n",
    "                print_board()\n",
    "                print(\"It's a tie!\")\n",
    "                break\n",
    "            player = 'O' if player == 'X' else 'X'  # Switch player\n",
    "        else:\n",
    "            print(\"That position is already taken. Try again.\")\n",
    "\n",
    "if __name__ == \"__main__\":\n",
    "    main()\n"
   ]
  },
  {
   "cell_type": "code",
   "execution_count": null,
   "id": "5f689ebf-eec5-4d06-986f-eaa7d1d381a5",
   "metadata": {},
   "outputs": [],
   "source": []
  }
 ],
 "metadata": {
  "kernelspec": {
   "display_name": "Python 3 (ipykernel)",
   "language": "python",
   "name": "python3"
  },
  "language_info": {
   "codemirror_mode": {
    "name": "ipython",
    "version": 3
   },
   "file_extension": ".py",
   "mimetype": "text/x-python",
   "name": "python",
   "nbconvert_exporter": "python",
   "pygments_lexer": "ipython3",
   "version": "3.11.7"
  }
 },
 "nbformat": 4,
 "nbformat_minor": 5
}
